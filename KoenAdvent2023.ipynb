{
 "cells": [
  {
   "cell_type": "markdown",
   "metadata": {},
   "source": [
    "# Advent of Code 2023"
   ]
  },
  {
   "cell_type": "markdown",
   "metadata": {},
   "source": [
    "generic import"
   ]
  },
  {
   "cell_type": "code",
   "execution_count": null,
   "metadata": {},
   "outputs": [],
   "source": [
    "%load_ext autoreload\n",
    "%autoreload 2\n",
    "\n",
    "import logging\n",
    "import importlib.util\n",
    "from pathlib import Path\n",
    "import polars as pl\n",
    "\n",
    "from logging import DEBUG, INFO\n",
    "VERBOSE = 5\n",
    "\n",
    "parent_dir = Path().resolve()\n",
    "\n",
    "# configure root logger\n",
    "logger = logging.getLogger()\n",
    "logger.setLevel(logging.INFO)\n",
    "consoleHandler = logging.StreamHandler()\n",
    "formatter = logging.Formatter('%(message)s')\n",
    "consoleHandler.setFormatter(formatter)\n",
    "logger.addHandler(consoleHandler)\n",
    "\n",
    "def set_log_level(log_level=INFO):\n",
    "    logger = logging.getLogger()\n",
    "    logger.setLevel(log_level)\n",
    "\n",
    "def get_input_path(day, test=None, parent_dir=parent_dir):\n",
    "    day_str = str(day).zfill(2)\n",
    "    input_path = parent_dir.joinpath(f'day{day_str}/koen/data/input.txt')\n",
    "    log_level = INFO\n",
    "    if test:\n",
    "        input_path = input_path.with_name(input_path.stem + f'_test{test}.txt')\n",
    "        log_level = DEBUG\n",
    "    set_log_level(log_level)\n",
    "    return input_path\n",
    "\n",
    "def path_import(absolute_path):\n",
    "    spec = importlib.util.spec_from_file_location(absolute_path.stem, absolute_path)\n",
    "    module = importlib.util.module_from_spec(spec)\n",
    "    spec.loader.exec_module(module)\n",
    "    return module\n",
    "\n",
    "def dynamic_load(day):\n",
    "    day_str = str(day).zfill(2)\n",
    "    module_path = parent_dir.joinpath(f'day{day_str}/koen/day{day_str}.py')\n",
    "    return path_import(module_path)\n",
    "    "
   ]
  },
  {
   "cell_type": "markdown",
   "metadata": {},
   "source": [
    "## Day 01: Trebuchet?!"
   ]
  },
  {
   "cell_type": "markdown",
   "metadata": {},
   "source": [
    "sql extravaganza in duckdb using the [DBeaver extension](https://duckdb.org/docs/archive/0.9.2/guides/sql_editors/dbeaver)."
   ]
  },
  {
   "cell_type": "markdown",
   "metadata": {},
   "source": [
    "## Day 02: Cub Conundrum"
   ]
  },
  {
   "cell_type": "markdown",
   "metadata": {},
   "source": [
    "crawling back to python"
   ]
  },
  {
   "cell_type": "code",
   "execution_count": null,
   "metadata": {},
   "outputs": [],
   "source": [
    "day = 2\n",
    "day2 = dynamic_load(day)\n",
    "input_path = get_input_path(day=day, test=None)"
   ]
  },
  {
   "cell_type": "markdown",
   "metadata": {},
   "source": [
    "### part 1"
   ]
  },
  {
   "cell_type": "code",
   "execution_count": null,
   "metadata": {},
   "outputs": [],
   "source": [
    "max_red = 12\n",
    "max_green = 13\n",
    "max_blue = 14\n",
    "df = day2.parse_input(input_path)\n",
    "df"
   ]
  },
  {
   "cell_type": "code",
   "execution_count": null,
   "metadata": {},
   "outputs": [],
   "source": [
    "df = (\n",
    "    df\n",
    "    .with_columns(\n",
    "        pl.col('blue').list.max().alias('blue_max'),\n",
    "        pl.col('red').list.max().alias('red_max'),\n",
    "        pl.col('green').list.max().alias('green_max')\n",
    "    )\n",
    ")\n",
    "df"
   ]
  },
  {
   "cell_type": "code",
   "execution_count": null,
   "metadata": {},
   "outputs": [],
   "source": [
    "(\n",
    "    df\n",
    "    .filter(\n",
    "        pl.col('blue_max').le(max_blue)\n",
    "        & pl.col('red_max').le(max_red)\n",
    "        & pl.col('green_max').le(max_green)\n",
    "    )\n",
    "    .select(\n",
    "        pl.col('game').sum()\n",
    "    )\n",
    ")"
   ]
  },
  {
   "cell_type": "markdown",
   "metadata": {},
   "source": [
    "### part 2"
   ]
  },
  {
   "cell_type": "code",
   "execution_count": null,
   "metadata": {},
   "outputs": [],
   "source": [
    "(\n",
    "    df\n",
    "    .select(\n",
    "        (\n",
    "            pl.col('blue_max') * pl.col('red_max') * pl.col('green_max')\n",
    "        ).sum()\n",
    "    )\n",
    ")"
   ]
  }
 ],
 "metadata": {
  "kernelspec": {
   "display_name": "geo",
   "language": "python",
   "name": "python3"
  },
  "language_info": {
   "codemirror_mode": {
    "name": "ipython",
    "version": 3
   },
   "file_extension": ".py",
   "mimetype": "text/x-python",
   "name": "python",
   "nbconvert_exporter": "python",
   "pygments_lexer": "ipython3",
   "version": "3.10.9"
  },
  "orig_nbformat": 4
 },
 "nbformat": 4,
 "nbformat_minor": 2
}
