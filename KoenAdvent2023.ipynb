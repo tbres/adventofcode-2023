{
 "cells": [
  {
   "cell_type": "markdown",
   "metadata": {},
   "source": [
    "# Advent of Code 2023"
   ]
  },
  {
   "cell_type": "markdown",
   "metadata": {},
   "source": [
    "generic import"
   ]
  },
  {
   "cell_type": "code",
   "execution_count": 1,
   "metadata": {},
   "outputs": [],
   "source": [
    "import importlib.util\n",
    "import logging\n",
    "import numpy as np\n",
    "import polars as pl\n",
    "\n",
    "from logging import DEBUG, INFO\n",
    "from pathlib import Path\n",
    "\n",
    "VERBOSE = 5\n",
    "\n",
    "parent_dir = Path().resolve()\n",
    "\n",
    "# configure root logger\n",
    "logger = logging.getLogger()\n",
    "logger.setLevel(logging.INFO)\n",
    "consoleHandler = logging.StreamHandler()\n",
    "formatter = logging.Formatter('%(message)s')\n",
    "consoleHandler.setFormatter(formatter)\n",
    "logger.addHandler(consoleHandler)\n",
    "\n",
    "def set_log_level(log_level=INFO):\n",
    "    logger = logging.getLogger()\n",
    "    logger.setLevel(log_level)\n",
    "\n",
    "def get_input_path(day, test=None, parent_dir=parent_dir):\n",
    "    day_str = str(day).zfill(2)\n",
    "    input_path = parent_dir.joinpath(f'day{day_str}/koen/data/input.txt')\n",
    "    log_level = INFO\n",
    "    if test:\n",
    "        input_path = input_path.with_name(input_path.stem + f'_test{test}.txt')\n",
    "        log_level = DEBUG\n",
    "    set_log_level(log_level)\n",
    "    return input_path\n",
    "\n",
    "def path_import(absolute_path):\n",
    "    spec = importlib.util.spec_from_file_location(absolute_path.stem, absolute_path)\n",
    "    module = importlib.util.module_from_spec(spec)\n",
    "    spec.loader.exec_module(module)\n",
    "    return module\n",
    "\n",
    "def dynamic_load(day):\n",
    "    day_str = str(day).zfill(2)\n",
    "    module_path = parent_dir.joinpath(f'day{day_str}/koen/day{day_str}.py')\n",
    "    return path_import(module_path)\n",
    "    "
   ]
  },
  {
   "cell_type": "markdown",
   "metadata": {},
   "source": [
    "## Day 01: Trebuchet?!"
   ]
  },
  {
   "cell_type": "markdown",
   "metadata": {},
   "source": [
    "sql extravaganza in duckdb using the [DBeaver extension](https://duckdb.org/docs/archive/0.9.2/guides/sql_editors/dbeaver)."
   ]
  },
  {
   "cell_type": "markdown",
   "metadata": {},
   "source": [
    "## Day 02: Cub Conundrum"
   ]
  },
  {
   "cell_type": "markdown",
   "metadata": {},
   "source": [
    "crawling back to python"
   ]
  },
  {
   "cell_type": "code",
   "execution_count": null,
   "metadata": {},
   "outputs": [],
   "source": [
    "day = 2\n",
    "day2 = dynamic_load(day)\n",
    "input_path = get_input_path(day=day, test=None)"
   ]
  },
  {
   "cell_type": "markdown",
   "metadata": {},
   "source": [
    "### part 1"
   ]
  },
  {
   "cell_type": "code",
   "execution_count": null,
   "metadata": {},
   "outputs": [],
   "source": [
    "max_red = 12\n",
    "max_green = 13\n",
    "max_blue = 14\n",
    "df = day2.parse_input(input_path)\n",
    "df"
   ]
  },
  {
   "cell_type": "code",
   "execution_count": null,
   "metadata": {},
   "outputs": [],
   "source": [
    "df = (\n",
    "    df\n",
    "    .with_columns(\n",
    "        pl.col('blue').list.max().alias('blue_max'),\n",
    "        pl.col('red').list.max().alias('red_max'),\n",
    "        pl.col('green').list.max().alias('green_max')\n",
    "    )\n",
    ")\n",
    "df"
   ]
  },
  {
   "cell_type": "code",
   "execution_count": null,
   "metadata": {},
   "outputs": [],
   "source": [
    "(\n",
    "    df\n",
    "    .filter(\n",
    "        pl.col('blue_max').le(max_blue)\n",
    "        & pl.col('red_max').le(max_red)\n",
    "        & pl.col('green_max').le(max_green)\n",
    "    )\n",
    "    .select(\n",
    "        pl.col('game').sum()\n",
    "    )\n",
    ")"
   ]
  },
  {
   "cell_type": "markdown",
   "metadata": {},
   "source": [
    "### part 2"
   ]
  },
  {
   "cell_type": "code",
   "execution_count": null,
   "metadata": {},
   "outputs": [],
   "source": [
    "(\n",
    "    df\n",
    "    .select(\n",
    "        (\n",
    "            pl.col('blue_max') * pl.col('red_max') * pl.col('green_max')\n",
    "        ).sum()\n",
    "    )\n",
    ")"
   ]
  },
  {
   "cell_type": "markdown",
   "metadata": {},
   "source": [
    "## Day 03: Gear Ratios"
   ]
  },
  {
   "cell_type": "code",
   "execution_count": null,
   "metadata": {},
   "outputs": [],
   "source": [
    "day = 3\n",
    "day3 = dynamic_load(day)\n",
    "input_path = get_input_path(day=day, test=None)"
   ]
  },
  {
   "cell_type": "markdown",
   "metadata": {},
   "source": [
    "### part 1"
   ]
  },
  {
   "cell_type": "code",
   "execution_count": null,
   "metadata": {},
   "outputs": [],
   "source": [
    "numbers, symbol_df = day3.parse_input(input_path)"
   ]
  },
  {
   "cell_type": "code",
   "execution_count": null,
   "metadata": {},
   "outputs": [],
   "source": [
    "sum([x.value for x in numbers if x.next_to_symbol(symbol_df)])"
   ]
  },
  {
   "cell_type": "markdown",
   "metadata": {},
   "source": [
    "### part 2"
   ]
  },
  {
   "cell_type": "code",
   "execution_count": null,
   "metadata": {},
   "outputs": [],
   "source": [
    "gear_candidate_df = (\n",
    "    symbol_df\n",
    "    .filter(pl.col('symbol') == '*')\n",
    "    .with_columns(\n",
    "        pl.concat_str(pl.col('row'), pl.col('column'), separator='-').alias('gear_id')\n",
    "    )\n",
    ")"
   ]
  },
  {
   "cell_type": "code",
   "execution_count": null,
   "metadata": {},
   "outputs": [],
   "source": [
    "adjacent_parts = [x for x in numbers if x.next_to_symbol(gear_candidate_df)]\n",
    "adjacent_gears = [(x.id, x.value, x.get_adjacent_gears(gear_candidate_df)) for x in adjacent_parts]"
   ]
  },
  {
   "cell_type": "code",
   "execution_count": null,
   "metadata": {},
   "outputs": [],
   "source": [
    "gear_df = pl.DataFrame(adjacent_gears, schema=['part_id', 'part_value', 'gear_id'], orient='row').explode('gear_id')"
   ]
  },
  {
   "cell_type": "code",
   "execution_count": null,
   "metadata": {},
   "outputs": [],
   "source": [
    "(\n",
    "    gear_df\n",
    "    .group_by('gear_id')\n",
    "    .agg(\n",
    "        pl.col('part_id').n_unique(),\n",
    "        pl.col('part_value').product()\n",
    "    )\n",
    "    .filter(\n",
    "        pl.col('part_id') == 2\n",
    "    )\n",
    "    .select(\n",
    "        pl.col('part_value')\n",
    "    ).sum()\n",
    ")"
   ]
  },
  {
   "cell_type": "markdown",
   "metadata": {},
   "source": [
    "## Day 04: Scratchcards "
   ]
  },
  {
   "cell_type": "code",
   "execution_count": null,
   "metadata": {},
   "outputs": [],
   "source": [
    "day = 4\n",
    "day4 = dynamic_load(day)\n",
    "input_path = get_input_path(day=day, test=None)"
   ]
  },
  {
   "cell_type": "markdown",
   "metadata": {},
   "source": [
    "### part 1"
   ]
  },
  {
   "cell_type": "code",
   "execution_count": null,
   "metadata": {},
   "outputs": [],
   "source": [
    "df = day4.parse_input(input_path)"
   ]
  },
  {
   "cell_type": "code",
   "execution_count": null,
   "metadata": {},
   "outputs": [],
   "source": [
    "(\n",
    "    df\n",
    "    .with_columns(\n",
    "        pl.col('winning').list.set_intersection(pl.col('ours')).list.len().alias('n_winning')\n",
    "    )\n",
    "    .select(\n",
    "        pl.when(pl.col('n_winning') > 0)\n",
    "        .then(2 ** (pl.col('n_winning') - 1))\n",
    "        .otherwise(pl.lit(0))\n",
    "        .cast(pl.Int64)\n",
    "        .sum()\n",
    "    )\n",
    ")"
   ]
  },
  {
   "cell_type": "markdown",
   "metadata": {},
   "source": [
    "### part 2"
   ]
  },
  {
   "cell_type": "code",
   "execution_count": null,
   "metadata": {},
   "outputs": [],
   "source": [
    "df = (\n",
    "    df\n",
    "    .with_columns(\n",
    "        pl.col('winning').list.set_intersection(pl.col('ours')).list.len().alias('n_winning')\n",
    "    )\n",
    ")"
   ]
  },
  {
   "cell_type": "code",
   "execution_count": null,
   "metadata": {},
   "outputs": [],
   "source": [
    "card_new_cards = {x['card']: list(np.arange(x['n_winning']) + x['card'] + 1) for x in df.iter_rows(named=True)}"
   ]
  },
  {
   "cell_type": "code",
   "execution_count": null,
   "metadata": {},
   "outputs": [],
   "source": [
    "card_copies = {x: 1 for x in card_new_cards.keys()}\n",
    "for card in card_new_cards.keys():\n",
    "    n_copies = card_copies.get(card, 0)\n",
    "    new_cards = card_new_cards.get(card) * n_copies\n",
    "    for new_card in new_cards:\n",
    "        card_copies[new_card] = card_copies.get(new_card, 0) + 1"
   ]
  },
  {
   "cell_type": "code",
   "execution_count": null,
   "metadata": {},
   "outputs": [],
   "source": [
    "sum(card_copies.values())"
   ]
  },
  {
   "cell_type": "markdown",
   "metadata": {},
   "source": [
    "## Day 05: If You Give A Seed A Fertilizer"
   ]
  },
  {
   "cell_type": "code",
   "execution_count": null,
   "metadata": {},
   "outputs": [],
   "source": [
    "day = 5\n",
    "day5 = dynamic_load(day)\n",
    "input_path = get_input_path(day=day, test=None)"
   ]
  },
  {
   "cell_type": "markdown",
   "metadata": {},
   "source": [
    "### part 1"
   ]
  },
  {
   "cell_type": "code",
   "execution_count": null,
   "metadata": {},
   "outputs": [],
   "source": [
    "seeds, mapping = day5.parse_input(input_path)"
   ]
  },
  {
   "cell_type": "code",
   "execution_count": null,
   "metadata": {},
   "outputs": [],
   "source": [
    "mapping_graph = day5.MappingGraph(mapping, logger=logger)"
   ]
  },
  {
   "cell_type": "code",
   "execution_count": null,
   "metadata": {},
   "outputs": [],
   "source": [
    "locations = mapping_graph.do_mapping('seed', seeds)\n",
    "min(locations)"
   ]
  },
  {
   "cell_type": "markdown",
   "metadata": {},
   "source": [
    "### part 2\n",
    "need some time to ponder upon this one..."
   ]
  },
  {
   "cell_type": "code",
   "execution_count": null,
   "metadata": {},
   "outputs": [],
   "source": [
    "seed_ranges = [(seeds[i], seeds[i] + seeds[i + 1] - 1) for i in range(0, len(seeds), 2)]\n",
    "seed_ranges.sort(key=lambda x: x[0])\n",
    "location_ranges = mapping_graph.do_range_mapping('seed', seed_ranges)"
   ]
  },
  {
   "cell_type": "code",
   "execution_count": null,
   "metadata": {},
   "outputs": [],
   "source": [
    "min([min(x) for x in location_ranges])"
   ]
  },
  {
   "cell_type": "markdown",
   "metadata": {},
   "source": [
    "## Day 06: Wait For It"
   ]
  },
  {
   "cell_type": "code",
   "execution_count": 39,
   "metadata": {},
   "outputs": [],
   "source": [
    "day = 6\n",
    "day6 = dynamic_load(day)\n",
    "input_path = get_input_path(day=day, test=None)"
   ]
  },
  {
   "cell_type": "markdown",
   "metadata": {},
   "source": [
    "### part 1"
   ]
  },
  {
   "cell_type": "code",
   "execution_count": 26,
   "metadata": {},
   "outputs": [],
   "source": [
    "df = day6.parse_input(input_path)"
   ]
  },
  {
   "cell_type": "code",
   "execution_count": 27,
   "metadata": {},
   "outputs": [
    {
     "data": {
      "text/html": [
       "<div><style>\n",
       ".dataframe > thead > tr,\n",
       ".dataframe > tbody > tr {\n",
       "  text-align: right;\n",
       "  white-space: pre-wrap;\n",
       "}\n",
       "</style>\n",
       "<small>shape: (1, 1)</small><table border=\"1\" class=\"dataframe\"><thead><tr><th>count</th></tr><tr><td>i64</td></tr></thead><tbody><tr><td>4403592</td></tr></tbody></table></div>"
      ],
      "text/plain": [
       "shape: (1, 1)\n",
       "┌─────────┐\n",
       "│ count   │\n",
       "│ ---     │\n",
       "│ i64     │\n",
       "╞═════════╡\n",
       "│ 4403592 │\n",
       "└─────────┘"
      ]
     },
     "execution_count": 27,
     "metadata": {},
     "output_type": "execute_result"
    }
   ],
   "source": [
    "(\n",
    "    df\n",
    "    .with_columns(\n",
    "        pl.arange(1, df.height + 1).alias('id'),\n",
    "        pl.int_ranges(0, 'max_time').alias('press_time')\n",
    "    )\n",
    "    .explode('press_time')\n",
    "    .with_columns(\n",
    "        (pl.col('press_time') * (pl.col('max_time') - pl.col('press_time'))).alias('distance')\n",
    "    )\n",
    "    .filter(pl.col('distance') > pl.col('distance_record'))\n",
    "    .group_by('id')\n",
    "    .count()\n",
    "    .select(\n",
    "        pl.col('count').product()\n",
    "    )\n",
    ")"
   ]
  },
  {
   "cell_type": "markdown",
   "metadata": {},
   "source": [
    "### part 2"
   ]
  },
  {
   "cell_type": "code",
   "execution_count": 40,
   "metadata": {},
   "outputs": [],
   "source": [
    "time, distance = day6.parse_input2(input_path)"
   ]
  },
  {
   "cell_type": "markdown",
   "metadata": {},
   "source": [
    "d = t x (m - t)  \n",
    "-t^2 + mt = d  \n",
    "t^2 -mt + d = 0  \n",
    "\n",
    "ax^2 + bx + c = 0  \n",
    "D = b^2 - 4a  \n",
    "(-b +- sqrt(D)) / 2a  "
   ]
  },
  {
   "cell_type": "code",
   "execution_count": 41,
   "metadata": {},
   "outputs": [
    {
     "data": {
      "text/plain": [
       "1445336965368632"
      ]
     },
     "execution_count": 41,
     "metadata": {},
     "output_type": "execute_result"
    }
   ],
   "source": [
    "D = time ** 2 - 4 * distance\n",
    "D"
   ]
  },
  {
   "cell_type": "code",
   "execution_count": 42,
   "metadata": {},
   "outputs": [
    {
     "name": "stdout",
     "output_type": "stream",
     "text": [
      "5980954 43998540\n",
      "38017587\n"
     ]
    }
   ],
   "source": [
    "import math\n",
    "\n",
    "t1 = math.ceil((time - math.sqrt(D)) / 2)\n",
    "t2 = math.floor((time + math.sqrt(D)) / 2)\n",
    "print(t1, t2)\n",
    "print(t2 - t1 + 1)"
   ]
  }
 ],
 "metadata": {
  "kernelspec": {
   "display_name": "geo",
   "language": "python",
   "name": "python3"
  },
  "language_info": {
   "codemirror_mode": {
    "name": "ipython",
    "version": 3
   },
   "file_extension": ".py",
   "mimetype": "text/x-python",
   "name": "python",
   "nbconvert_exporter": "python",
   "pygments_lexer": "ipython3",
   "version": "3.10.9"
  },
  "orig_nbformat": 4
 },
 "nbformat": 4,
 "nbformat_minor": 2
}
