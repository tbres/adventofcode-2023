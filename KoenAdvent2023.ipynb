{
 "cells": [
  {
   "cell_type": "markdown",
   "metadata": {},
   "source": [
    "# Advent of Code 2023"
   ]
  },
  {
   "cell_type": "markdown",
   "metadata": {},
   "source": [
    "generic import"
   ]
  },
  {
   "cell_type": "code",
   "execution_count": 2,
   "metadata": {},
   "outputs": [],
   "source": [
    "import importlib.util\n",
    "import logging\n",
    "import numpy as np\n",
    "import polars as pl\n",
    "\n",
    "from logging import DEBUG, INFO\n",
    "from pathlib import Path\n",
    "\n",
    "VERBOSE = 5\n",
    "\n",
    "parent_dir = Path().resolve()\n",
    "\n",
    "# configure root logger\n",
    "logger = logging.getLogger()\n",
    "logger.setLevel(logging.INFO)\n",
    "consoleHandler = logging.StreamHandler()\n",
    "formatter = logging.Formatter('%(message)s')\n",
    "consoleHandler.setFormatter(formatter)\n",
    "logger.addHandler(consoleHandler)\n",
    "\n",
    "def set_log_level(log_level=INFO):\n",
    "    logger = logging.getLogger()\n",
    "    logger.setLevel(log_level)\n",
    "\n",
    "def get_input_path(day, test=None, parent_dir=parent_dir):\n",
    "    day_str = str(day).zfill(2)\n",
    "    input_path = parent_dir.joinpath(f'day{day_str}/koen/data/input.txt')\n",
    "    log_level = INFO\n",
    "    if test:\n",
    "        input_path = input_path.with_name(input_path.stem + f'_test{test}.txt')\n",
    "        log_level = DEBUG\n",
    "    set_log_level(log_level)\n",
    "    return input_path\n",
    "\n",
    "def path_import(absolute_path):\n",
    "    spec = importlib.util.spec_from_file_location(absolute_path.stem, absolute_path)\n",
    "    module = importlib.util.module_from_spec(spec)\n",
    "    spec.loader.exec_module(module)\n",
    "    return module\n",
    "\n",
    "def dynamic_load(day):\n",
    "    day_str = str(day).zfill(2)\n",
    "    module_path = parent_dir.joinpath(f'day{day_str}/koen/day{day_str}.py')\n",
    "    return path_import(module_path)\n",
    "    "
   ]
  },
  {
   "cell_type": "markdown",
   "metadata": {},
   "source": [
    "## Day 01: Trebuchet?!"
   ]
  },
  {
   "cell_type": "markdown",
   "metadata": {},
   "source": [
    "sql extravaganza in duckdb using the [DBeaver extension](https://duckdb.org/docs/archive/0.9.2/guides/sql_editors/dbeaver)."
   ]
  },
  {
   "cell_type": "markdown",
   "metadata": {},
   "source": [
    "## Day 02: Cub Conundrum"
   ]
  },
  {
   "cell_type": "markdown",
   "metadata": {},
   "source": [
    "crawling back to python"
   ]
  },
  {
   "cell_type": "code",
   "execution_count": null,
   "metadata": {},
   "outputs": [],
   "source": [
    "day = 2\n",
    "day2 = dynamic_load(day)\n",
    "input_path = get_input_path(day=day, test=None)"
   ]
  },
  {
   "cell_type": "markdown",
   "metadata": {},
   "source": [
    "### part 1"
   ]
  },
  {
   "cell_type": "code",
   "execution_count": null,
   "metadata": {},
   "outputs": [],
   "source": [
    "max_red = 12\n",
    "max_green = 13\n",
    "max_blue = 14\n",
    "df = day2.parse_input(input_path)\n",
    "df"
   ]
  },
  {
   "cell_type": "code",
   "execution_count": null,
   "metadata": {},
   "outputs": [],
   "source": [
    "df = (\n",
    "    df\n",
    "    .with_columns(\n",
    "        pl.col('blue').list.max().alias('blue_max'),\n",
    "        pl.col('red').list.max().alias('red_max'),\n",
    "        pl.col('green').list.max().alias('green_max')\n",
    "    )\n",
    ")\n",
    "df"
   ]
  },
  {
   "cell_type": "code",
   "execution_count": null,
   "metadata": {},
   "outputs": [],
   "source": [
    "(\n",
    "    df\n",
    "    .filter(\n",
    "        pl.col('blue_max').le(max_blue)\n",
    "        & pl.col('red_max').le(max_red)\n",
    "        & pl.col('green_max').le(max_green)\n",
    "    )\n",
    "    .select(\n",
    "        pl.col('game').sum()\n",
    "    )\n",
    ")"
   ]
  },
  {
   "cell_type": "markdown",
   "metadata": {},
   "source": [
    "### part 2"
   ]
  },
  {
   "cell_type": "code",
   "execution_count": null,
   "metadata": {},
   "outputs": [],
   "source": [
    "(\n",
    "    df\n",
    "    .select(\n",
    "        (\n",
    "            pl.col('blue_max') * pl.col('red_max') * pl.col('green_max')\n",
    "        ).sum()\n",
    "    )\n",
    ")"
   ]
  },
  {
   "cell_type": "markdown",
   "metadata": {},
   "source": [
    "## Day 03: Gear Ratios"
   ]
  },
  {
   "cell_type": "code",
   "execution_count": null,
   "metadata": {},
   "outputs": [],
   "source": [
    "day = 3\n",
    "day3 = dynamic_load(day)\n",
    "input_path = get_input_path(day=day, test=None)"
   ]
  },
  {
   "cell_type": "markdown",
   "metadata": {},
   "source": [
    "### part 1"
   ]
  },
  {
   "cell_type": "code",
   "execution_count": null,
   "metadata": {},
   "outputs": [],
   "source": [
    "numbers, symbol_df = day3.parse_input(input_path)"
   ]
  },
  {
   "cell_type": "code",
   "execution_count": null,
   "metadata": {},
   "outputs": [],
   "source": [
    "sum([x.value for x in numbers if x.next_to_symbol(symbol_df)])"
   ]
  },
  {
   "cell_type": "markdown",
   "metadata": {},
   "source": [
    "### part 2"
   ]
  },
  {
   "cell_type": "code",
   "execution_count": null,
   "metadata": {},
   "outputs": [],
   "source": [
    "gear_candidate_df = (\n",
    "    symbol_df\n",
    "    .filter(pl.col('symbol') == '*')\n",
    "    .with_columns(\n",
    "        pl.concat_str(pl.col('row'), pl.col('column'), separator='-').alias('gear_id')\n",
    "    )\n",
    ")"
   ]
  },
  {
   "cell_type": "code",
   "execution_count": null,
   "metadata": {},
   "outputs": [],
   "source": [
    "adjacent_parts = [x for x in numbers if x.next_to_symbol(gear_candidate_df)]\n",
    "adjacent_gears = [(x.id, x.value, x.get_adjacent_gears(gear_candidate_df)) for x in adjacent_parts]"
   ]
  },
  {
   "cell_type": "code",
   "execution_count": null,
   "metadata": {},
   "outputs": [],
   "source": [
    "gear_df = pl.DataFrame(adjacent_gears, schema=['part_id', 'part_value', 'gear_id'], orient='row').explode('gear_id')"
   ]
  },
  {
   "cell_type": "code",
   "execution_count": null,
   "metadata": {},
   "outputs": [],
   "source": [
    "(\n",
    "    gear_df\n",
    "    .group_by('gear_id')\n",
    "    .agg(\n",
    "        pl.col('part_id').n_unique(),\n",
    "        pl.col('part_value').product()\n",
    "    )\n",
    "    .filter(\n",
    "        pl.col('part_id') == 2\n",
    "    )\n",
    "    .select(\n",
    "        pl.col('part_value')\n",
    "    ).sum()\n",
    ")"
   ]
  },
  {
   "cell_type": "markdown",
   "metadata": {},
   "source": [
    "## Day 04: Scratchcards "
   ]
  },
  {
   "cell_type": "code",
   "execution_count": null,
   "metadata": {},
   "outputs": [],
   "source": [
    "day = 4\n",
    "day4 = dynamic_load(day)\n",
    "input_path = get_input_path(day=day, test=None)"
   ]
  },
  {
   "cell_type": "markdown",
   "metadata": {},
   "source": [
    "### part 1"
   ]
  },
  {
   "cell_type": "code",
   "execution_count": null,
   "metadata": {},
   "outputs": [],
   "source": [
    "df = day4.parse_input(input_path)"
   ]
  },
  {
   "cell_type": "code",
   "execution_count": null,
   "metadata": {},
   "outputs": [],
   "source": [
    "(\n",
    "    df\n",
    "    .with_columns(\n",
    "        pl.col('winning').list.set_intersection(pl.col('ours')).list.len().alias('n_winning')\n",
    "    )\n",
    "    .select(\n",
    "        pl.when(pl.col('n_winning') > 0)\n",
    "        .then(2 ** (pl.col('n_winning') - 1))\n",
    "        .otherwise(pl.lit(0))\n",
    "        .cast(pl.Int64)\n",
    "        .sum()\n",
    "    )\n",
    ")"
   ]
  },
  {
   "cell_type": "markdown",
   "metadata": {},
   "source": [
    "### part 2"
   ]
  },
  {
   "cell_type": "code",
   "execution_count": null,
   "metadata": {},
   "outputs": [],
   "source": [
    "df = (\n",
    "    df\n",
    "    .with_columns(\n",
    "        pl.col('winning').list.set_intersection(pl.col('ours')).list.len().alias('n_winning')\n",
    "    )\n",
    ")"
   ]
  },
  {
   "cell_type": "code",
   "execution_count": null,
   "metadata": {},
   "outputs": [],
   "source": [
    "card_new_cards = {x['card']: list(np.arange(x['n_winning']) + x['card'] + 1) for x in df.iter_rows(named=True)}"
   ]
  },
  {
   "cell_type": "code",
   "execution_count": null,
   "metadata": {},
   "outputs": [],
   "source": [
    "card_copies = {x: 1 for x in card_new_cards.keys()}\n",
    "for card in card_new_cards.keys():\n",
    "    n_copies = card_copies.get(card, 0)\n",
    "    new_cards = card_new_cards.get(card) * n_copies\n",
    "    for new_card in new_cards:\n",
    "        card_copies[new_card] = card_copies.get(new_card, 0) + 1"
   ]
  },
  {
   "cell_type": "code",
   "execution_count": null,
   "metadata": {},
   "outputs": [],
   "source": [
    "sum(card_copies.values())"
   ]
  },
  {
   "cell_type": "markdown",
   "metadata": {},
   "source": [
    "## Day 05: If You Give A Seed A Fertilizer"
   ]
  },
  {
   "cell_type": "code",
   "execution_count": null,
   "metadata": {},
   "outputs": [],
   "source": [
    "day = 5\n",
    "day5 = dynamic_load(day)\n",
    "input_path = get_input_path(day=day, test=None)"
   ]
  },
  {
   "cell_type": "markdown",
   "metadata": {},
   "source": [
    "### part 1"
   ]
  },
  {
   "cell_type": "code",
   "execution_count": null,
   "metadata": {},
   "outputs": [],
   "source": [
    "seeds, mapping = day5.parse_input(input_path)"
   ]
  },
  {
   "cell_type": "code",
   "execution_count": null,
   "metadata": {},
   "outputs": [],
   "source": [
    "mapping_graph = day5.MappingGraph(mapping, logger=logger)"
   ]
  },
  {
   "cell_type": "code",
   "execution_count": null,
   "metadata": {},
   "outputs": [],
   "source": [
    "locations = mapping_graph.do_mapping('seed', seeds)\n",
    "min(locations)"
   ]
  },
  {
   "cell_type": "markdown",
   "metadata": {},
   "source": [
    "### part 2\n",
    "need some time to ponder upon this one..."
   ]
  },
  {
   "cell_type": "code",
   "execution_count": null,
   "metadata": {},
   "outputs": [],
   "source": [
    "seed_ranges = [(seeds[i], seeds[i] + seeds[i + 1] - 1) for i in range(0, len(seeds), 2)]\n",
    "seed_ranges.sort(key=lambda x: x[0])\n",
    "location_ranges = mapping_graph.do_range_mapping('seed', seed_ranges)"
   ]
  },
  {
   "cell_type": "code",
   "execution_count": null,
   "metadata": {},
   "outputs": [],
   "source": [
    "min([min(x) for x in location_ranges])"
   ]
  },
  {
   "cell_type": "markdown",
   "metadata": {},
   "source": [
    "## Day 06: Wait For It"
   ]
  },
  {
   "cell_type": "code",
   "execution_count": 39,
   "metadata": {},
   "outputs": [],
   "source": [
    "day = 6\n",
    "day6 = dynamic_load(day)\n",
    "input_path = get_input_path(day=day, test=None)"
   ]
  },
  {
   "cell_type": "markdown",
   "metadata": {},
   "source": [
    "### part 1"
   ]
  },
  {
   "cell_type": "code",
   "execution_count": 26,
   "metadata": {},
   "outputs": [],
   "source": [
    "df = day6.parse_input(input_path)"
   ]
  },
  {
   "cell_type": "code",
   "execution_count": 27,
   "metadata": {},
   "outputs": [
    {
     "data": {
      "text/html": [
       "<div><style>\n",
       ".dataframe > thead > tr,\n",
       ".dataframe > tbody > tr {\n",
       "  text-align: right;\n",
       "  white-space: pre-wrap;\n",
       "}\n",
       "</style>\n",
       "<small>shape: (1, 1)</small><table border=\"1\" class=\"dataframe\"><thead><tr><th>count</th></tr><tr><td>i64</td></tr></thead><tbody><tr><td>4403592</td></tr></tbody></table></div>"
      ],
      "text/plain": [
       "shape: (1, 1)\n",
       "┌─────────┐\n",
       "│ count   │\n",
       "│ ---     │\n",
       "│ i64     │\n",
       "╞═════════╡\n",
       "│ 4403592 │\n",
       "└─────────┘"
      ]
     },
     "execution_count": 27,
     "metadata": {},
     "output_type": "execute_result"
    }
   ],
   "source": [
    "(\n",
    "    df\n",
    "    .with_columns(\n",
    "        pl.arange(1, df.height + 1).alias('id'),\n",
    "        pl.int_ranges(0, 'max_time').alias('press_time')\n",
    "    )\n",
    "    .explode('press_time')\n",
    "    .with_columns(\n",
    "        (pl.col('press_time') * (pl.col('max_time') - pl.col('press_time'))).alias('distance')\n",
    "    )\n",
    "    .filter(pl.col('distance') > pl.col('distance_record'))\n",
    "    .group_by('id')\n",
    "    .count()\n",
    "    .select(\n",
    "        pl.col('count').product()\n",
    "    )\n",
    ")"
   ]
  },
  {
   "cell_type": "markdown",
   "metadata": {},
   "source": [
    "### part 2"
   ]
  },
  {
   "cell_type": "code",
   "execution_count": 40,
   "metadata": {},
   "outputs": [],
   "source": [
    "time, distance = day6.parse_input2(input_path)"
   ]
  },
  {
   "cell_type": "markdown",
   "metadata": {},
   "source": [
    "d = t x (m - t)  \n",
    "-t^2 + mt = d  \n",
    "t^2 -mt + d = 0  \n",
    "\n",
    "ax^2 + bx + c = 0  \n",
    "D = b^2 - 4a  \n",
    "(-b +- sqrt(D)) / 2a  "
   ]
  },
  {
   "cell_type": "code",
   "execution_count": 41,
   "metadata": {},
   "outputs": [
    {
     "data": {
      "text/plain": [
       "1445336965368632"
      ]
     },
     "execution_count": 41,
     "metadata": {},
     "output_type": "execute_result"
    }
   ],
   "source": [
    "D = time ** 2 - 4 * distance\n",
    "D"
   ]
  },
  {
   "cell_type": "code",
   "execution_count": 42,
   "metadata": {},
   "outputs": [
    {
     "name": "stdout",
     "output_type": "stream",
     "text": [
      "5980954 43998540\n",
      "38017587\n"
     ]
    }
   ],
   "source": [
    "import math\n",
    "\n",
    "t1 = math.ceil((time - math.sqrt(D)) / 2)\n",
    "t2 = math.floor((time + math.sqrt(D)) / 2)\n",
    "print(t1, t2)\n",
    "print(t2 - t1 + 1)"
   ]
  },
  {
   "cell_type": "markdown",
   "metadata": {},
   "source": [
    "## Day 07: Camel Cards"
   ]
  },
  {
   "cell_type": "code",
   "execution_count": 56,
   "metadata": {},
   "outputs": [],
   "source": [
    "day = 7\n",
    "day7 = dynamic_load(day)\n",
    "input_path = get_input_path(day=day, test=None)"
   ]
  },
  {
   "cell_type": "markdown",
   "metadata": {},
   "source": [
    "### part 1"
   ]
  },
  {
   "cell_type": "code",
   "execution_count": 57,
   "metadata": {},
   "outputs": [],
   "source": [
    "df = day7.parse_input(input_path)"
   ]
  },
  {
   "cell_type": "code",
   "execution_count": 58,
   "metadata": {},
   "outputs": [
    {
     "data": {
      "text/html": [
       "<div><style>\n",
       ".dataframe > thead > tr,\n",
       ".dataframe > tbody > tr {\n",
       "  text-align: right;\n",
       "  white-space: pre-wrap;\n",
       "}\n",
       "</style>\n",
       "<small>shape: (1_000, 8)</small><table border=\"1\" class=\"dataframe\"><thead><tr><th>hand</th><th>bid</th><th>hand_hex</th><th>option_counts</th><th>count1</th><th>count2</th><th>prio</th><th>rank</th></tr><tr><td>str</td><td>i64</td><td>i32</td><td>list[u32]</td><td>u32</td><td>u32</td><td>i32</td><td>u32</td></tr></thead><tbody><tr><td>&quot;4KTJ4&quot;</td><td>575</td><td>318132</td><td>[2, 1, … 0]</td><td>2</td><td>1</td><td>2</td><td>254</td></tr><tr><td>&quot;38T4K&quot;</td><td>449</td><td>232013</td><td>[1, 1, … 0]</td><td>1</td><td>1</td><td>1</td><td>25</td></tr><tr><td>&quot;4T437&quot;</td><td>860</td><td>304183</td><td>[2, 1, … 0]</td><td>2</td><td>1</td><td>2</td><td>248</td></tr><tr><td>&quot;55954&quot;</td><td>240</td><td>350548</td><td>[3, 1, … 0]</td><td>3</td><td>1</td><td>4</td><td>665</td></tr><tr><td>&quot;Q8K89&quot;</td><td>150</td><td>822665</td><td>[2, 1, … 0]</td><td>2</td><td>1</td><td>2</td><td>415</td></tr><tr><td>&quot;85838&quot;</td><td>21</td><td>546872</td><td>[3, 1, … 0]</td><td>3</td><td>1</td><td>4</td><td>703</td></tr><tr><td>&quot;68668&quot;</td><td>464</td><td>427624</td><td>[3, 2, … 0]</td><td>3</td><td>2</td><td>5</td><td>843</td></tr><tr><td>&quot;JQT77&quot;</td><td>737</td><td>772727</td><td>[2, 1, … 0]</td><td>2</td><td>1</td><td>2</td><td>397</td></tr><tr><td>&quot;99497&quot;</td><td>155</td><td>627863</td><td>[3, 1, … 0]</td><td>3</td><td>1</td><td>4</td><td>724</td></tr><tr><td>&quot;A444A&quot;</td><td>653</td><td>934990</td><td>[3, 2, … 0]</td><td>3</td><td>2</td><td>5</td><td>897</td></tr><tr><td>&quot;AA6QQ&quot;</td><td>28</td><td>976588</td><td>[2, 2, … 0]</td><td>2</td><td>2</td><td>3</td><td>613</td></tr><tr><td>&quot;4Q39T&quot;</td><td>332</td><td>312218</td><td>[1, 1, … 0]</td><td>1</td><td>1</td><td>1</td><td>51</td></tr><tr><td>&hellip;</td><td>&hellip;</td><td>&hellip;</td><td>&hellip;</td><td>&hellip;</td><td>&hellip;</td><td>&hellip;</td><td>&hellip;</td></tr><tr><td>&quot;9A599&quot;</td><td>88</td><td>648601</td><td>[3, 1, … 0]</td><td>3</td><td>1</td><td>4</td><td>732</td></tr><tr><td>&quot;8K884&quot;</td><td>465</td><td>579716</td><td>[3, 1, … 0]</td><td>3</td><td>1</td><td>4</td><td>717</td></tr><tr><td>&quot;KTKKJ&quot;</td><td>973</td><td>896475</td><td>[3, 1, … 0]</td><td>3</td><td>1</td><td>4</td><td>792</td></tr><tr><td>&quot;78K65&quot;</td><td>506</td><td>494949</td><td>[1, 1, … 0]</td><td>1</td><td>1</td><td>1</td><td>98</td></tr><tr><td>&quot;AAAA9&quot;</td><td>407</td><td>978665</td><td>[4, 1, … 0]</td><td>4</td><td>1</td><td>6</td><td>999</td></tr><tr><td>&quot;22322&quot;</td><td>553</td><td>140066</td><td>[4, 1, … 0]</td><td>4</td><td>1</td><td>6</td><td>907</td></tr><tr><td>&quot;KQ752&quot;</td><td>54</td><td>902994</td><td>[1, 1, … 0]</td><td>1</td><td>1</td><td>1</td><td>183</td></tr><tr><td>&quot;KKK55&quot;</td><td>136</td><td>908629</td><td>[3, 2, … 0]</td><td>3</td><td>2</td><td>5</td><td>895</td></tr><tr><td>&quot;8K76K&quot;</td><td>604</td><td>579437</td><td>[2, 1, … 0]</td><td>2</td><td>1</td><td>2</td><td>319</td></tr><tr><td>&quot;555TK&quot;</td><td>266</td><td>349613</td><td>[3, 1, … 0]</td><td>3</td><td>1</td><td>4</td><td>664</td></tr><tr><td>&quot;49K3A&quot;</td><td>497</td><td>302398</td><td>[1, 1, … 0]</td><td>1</td><td>1</td><td>1</td><td>45</td></tr><tr><td>&quot;8JJJJ&quot;</td><td>769</td><td>572347</td><td>[4, 1, … 0]</td><td>4</td><td>1</td><td>6</td><td>959</td></tr></tbody></table></div>"
      ],
      "text/plain": [
       "shape: (1_000, 8)\n",
       "┌───────┬─────┬──────────┬───────────────┬────────┬────────┬──────┬──────┐\n",
       "│ hand  ┆ bid ┆ hand_hex ┆ option_counts ┆ count1 ┆ count2 ┆ prio ┆ rank │\n",
       "│ ---   ┆ --- ┆ ---      ┆ ---           ┆ ---    ┆ ---    ┆ ---  ┆ ---  │\n",
       "│ str   ┆ i64 ┆ i32      ┆ list[u32]     ┆ u32    ┆ u32    ┆ i32  ┆ u32  │\n",
       "╞═══════╪═════╪══════════╪═══════════════╪════════╪════════╪══════╪══════╡\n",
       "│ 4KTJ4 ┆ 575 ┆ 318132   ┆ [2, 1, … 0]   ┆ 2      ┆ 1      ┆ 2    ┆ 254  │\n",
       "│ 38T4K ┆ 449 ┆ 232013   ┆ [1, 1, … 0]   ┆ 1      ┆ 1      ┆ 1    ┆ 25   │\n",
       "│ 4T437 ┆ 860 ┆ 304183   ┆ [2, 1, … 0]   ┆ 2      ┆ 1      ┆ 2    ┆ 248  │\n",
       "│ 55954 ┆ 240 ┆ 350548   ┆ [3, 1, … 0]   ┆ 3      ┆ 1      ┆ 4    ┆ 665  │\n",
       "│ …     ┆ …   ┆ …        ┆ …             ┆ …      ┆ …      ┆ …    ┆ …    │\n",
       "│ 8K76K ┆ 604 ┆ 579437   ┆ [2, 1, … 0]   ┆ 2      ┆ 1      ┆ 2    ┆ 319  │\n",
       "│ 555TK ┆ 266 ┆ 349613   ┆ [3, 1, … 0]   ┆ 3      ┆ 1      ┆ 4    ┆ 664  │\n",
       "│ 49K3A ┆ 497 ┆ 302398   ┆ [1, 1, … 0]   ┆ 1      ┆ 1      ┆ 1    ┆ 45   │\n",
       "│ 8JJJJ ┆ 769 ┆ 572347   ┆ [4, 1, … 0]   ┆ 4      ┆ 1      ┆ 6    ┆ 959  │\n",
       "└───────┴─────┴──────────┴───────────────┴────────┴────────┴──────┴──────┘"
      ]
     },
     "execution_count": 58,
     "metadata": {},
     "output_type": "execute_result"
    }
   ],
   "source": [
    "df = day7.add_rank(df)\n",
    "df"
   ]
  },
  {
   "cell_type": "code",
   "execution_count": 59,
   "metadata": {},
   "outputs": [
    {
     "data": {
      "text/html": [
       "<div><style>\n",
       ".dataframe > thead > tr,\n",
       ".dataframe > tbody > tr {\n",
       "  text-align: right;\n",
       "  white-space: pre-wrap;\n",
       "}\n",
       "</style>\n",
       "<small>shape: (1, 1)</small><table border=\"1\" class=\"dataframe\"><thead><tr><th>rank</th></tr><tr><td>i64</td></tr></thead><tbody><tr><td>248179786</td></tr></tbody></table></div>"
      ],
      "text/plain": [
       "shape: (1, 1)\n",
       "┌───────────┐\n",
       "│ rank      │\n",
       "│ ---       │\n",
       "│ i64       │\n",
       "╞═══════════╡\n",
       "│ 248179786 │\n",
       "└───────────┘"
      ]
     },
     "execution_count": 59,
     "metadata": {},
     "output_type": "execute_result"
    }
   ],
   "source": [
    "(\n",
    "    df\n",
    "    .select(\n",
    "        (pl.col('rank') * pl.col('bid'))\n",
    "    ).sum()\n",
    ")"
   ]
  }
 ],
 "metadata": {
  "kernelspec": {
   "display_name": "geo",
   "language": "python",
   "name": "python3"
  },
  "language_info": {
   "codemirror_mode": {
    "name": "ipython",
    "version": 3
   },
   "file_extension": ".py",
   "mimetype": "text/x-python",
   "name": "python",
   "nbconvert_exporter": "python",
   "pygments_lexer": "ipython3",
   "version": "3.10.9"
  },
  "orig_nbformat": 4
 },
 "nbformat": 4,
 "nbformat_minor": 2
}
