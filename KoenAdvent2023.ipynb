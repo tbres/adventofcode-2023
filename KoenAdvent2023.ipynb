{
 "cells": [
  {
   "cell_type": "markdown",
   "metadata": {},
   "source": [
    "# Advent of Code 2023"
   ]
  },
  {
   "cell_type": "markdown",
   "metadata": {},
   "source": [
    "generic import"
   ]
  },
  {
   "cell_type": "code",
   "execution_count": null,
   "metadata": {},
   "outputs": [],
   "source": [
    "import importlib.util\n",
    "import logging\n",
    "import numpy as np\n",
    "import polars as pl\n",
    "\n",
    "from logging import DEBUG, INFO\n",
    "from pathlib import Path\n",
    "\n",
    "VERBOSE = 5\n",
    "\n",
    "parent_dir = Path().resolve()\n",
    "\n",
    "# configure root logger\n",
    "logger = logging.getLogger()\n",
    "logger.setLevel(logging.INFO)\n",
    "consoleHandler = logging.StreamHandler()\n",
    "formatter = logging.Formatter('%(message)s')\n",
    "consoleHandler.setFormatter(formatter)\n",
    "logger.addHandler(consoleHandler)\n",
    "\n",
    "def set_log_level(log_level=INFO):\n",
    "    logger = logging.getLogger()\n",
    "    logger.setLevel(log_level)\n",
    "\n",
    "def get_input_path(day, test=None, parent_dir=parent_dir):\n",
    "    day_str = str(day).zfill(2)\n",
    "    input_path = parent_dir.joinpath(f'day{day_str}/koen/data/input.txt')\n",
    "    log_level = INFO\n",
    "    if test:\n",
    "        input_path = input_path.with_name(input_path.stem + f'_test{test}.txt')\n",
    "        log_level = DEBUG\n",
    "    set_log_level(log_level)\n",
    "    return input_path\n",
    "\n",
    "def path_import(absolute_path):\n",
    "    spec = importlib.util.spec_from_file_location(absolute_path.stem, absolute_path)\n",
    "    module = importlib.util.module_from_spec(spec)\n",
    "    spec.loader.exec_module(module)\n",
    "    return module\n",
    "\n",
    "def dynamic_load(day):\n",
    "    day_str = str(day).zfill(2)\n",
    "    module_path = parent_dir.joinpath(f'day{day_str}/koen/day{day_str}.py')\n",
    "    return path_import(module_path)\n",
    "    "
   ]
  },
  {
   "cell_type": "markdown",
   "metadata": {},
   "source": [
    "## Day 01: Trebuchet?!"
   ]
  },
  {
   "cell_type": "markdown",
   "metadata": {},
   "source": [
    "sql extravaganza in duckdb using the [DBeaver extension](https://duckdb.org/docs/archive/0.9.2/guides/sql_editors/dbeaver)."
   ]
  },
  {
   "cell_type": "markdown",
   "metadata": {},
   "source": [
    "## Day 02: Cub Conundrum"
   ]
  },
  {
   "cell_type": "markdown",
   "metadata": {},
   "source": [
    "crawling back to python"
   ]
  },
  {
   "cell_type": "code",
   "execution_count": null,
   "metadata": {},
   "outputs": [],
   "source": [
    "day = 2\n",
    "day2 = dynamic_load(day)\n",
    "input_path = get_input_path(day=day, test=None)"
   ]
  },
  {
   "cell_type": "markdown",
   "metadata": {},
   "source": [
    "### part 1"
   ]
  },
  {
   "cell_type": "code",
   "execution_count": null,
   "metadata": {},
   "outputs": [],
   "source": [
    "max_red = 12\n",
    "max_green = 13\n",
    "max_blue = 14\n",
    "df = day2.parse_input(input_path)\n",
    "df"
   ]
  },
  {
   "cell_type": "code",
   "execution_count": null,
   "metadata": {},
   "outputs": [],
   "source": [
    "df = (\n",
    "    df\n",
    "    .with_columns(\n",
    "        pl.col('blue').list.max().alias('blue_max'),\n",
    "        pl.col('red').list.max().alias('red_max'),\n",
    "        pl.col('green').list.max().alias('green_max')\n",
    "    )\n",
    ")\n",
    "df"
   ]
  },
  {
   "cell_type": "code",
   "execution_count": null,
   "metadata": {},
   "outputs": [],
   "source": [
    "(\n",
    "    df\n",
    "    .filter(\n",
    "        pl.col('blue_max').le(max_blue)\n",
    "        & pl.col('red_max').le(max_red)\n",
    "        & pl.col('green_max').le(max_green)\n",
    "    )\n",
    "    .select(\n",
    "        pl.col('game').sum()\n",
    "    )\n",
    ")"
   ]
  },
  {
   "cell_type": "markdown",
   "metadata": {},
   "source": [
    "### part 2"
   ]
  },
  {
   "cell_type": "code",
   "execution_count": null,
   "metadata": {},
   "outputs": [],
   "source": [
    "(\n",
    "    df\n",
    "    .select(\n",
    "        (\n",
    "            pl.col('blue_max') * pl.col('red_max') * pl.col('green_max')\n",
    "        ).sum()\n",
    "    )\n",
    ")"
   ]
  },
  {
   "cell_type": "markdown",
   "metadata": {},
   "source": [
    "## Day 03: Gear Ratios"
   ]
  },
  {
   "cell_type": "code",
   "execution_count": null,
   "metadata": {},
   "outputs": [],
   "source": [
    "day = 3\n",
    "day3 = dynamic_load(day)\n",
    "input_path = get_input_path(day=day, test=None)"
   ]
  },
  {
   "cell_type": "markdown",
   "metadata": {},
   "source": [
    "### part 1"
   ]
  },
  {
   "cell_type": "code",
   "execution_count": null,
   "metadata": {},
   "outputs": [],
   "source": [
    "numbers, symbol_df = day3.parse_input(input_path)"
   ]
  },
  {
   "cell_type": "code",
   "execution_count": null,
   "metadata": {},
   "outputs": [],
   "source": [
    "sum([x.value for x in numbers if x.next_to_symbol(symbol_df)])"
   ]
  },
  {
   "cell_type": "markdown",
   "metadata": {},
   "source": [
    "### part 2"
   ]
  },
  {
   "cell_type": "code",
   "execution_count": null,
   "metadata": {},
   "outputs": [],
   "source": [
    "gear_candidate_df = (\n",
    "    symbol_df\n",
    "    .filter(pl.col('symbol') == '*')\n",
    "    .with_columns(\n",
    "        pl.concat_str(pl.col('row'), pl.col('column'), separator='-').alias('gear_id')\n",
    "    )\n",
    ")"
   ]
  },
  {
   "cell_type": "code",
   "execution_count": null,
   "metadata": {},
   "outputs": [],
   "source": [
    "adjacent_parts = [x for x in numbers if x.next_to_symbol(gear_candidate_df)]\n",
    "adjacent_gears = [(x.id, x.value, x.get_adjacent_gears(gear_candidate_df)) for x in adjacent_parts]"
   ]
  },
  {
   "cell_type": "code",
   "execution_count": null,
   "metadata": {},
   "outputs": [],
   "source": [
    "gear_df = pl.DataFrame(adjacent_gears, schema=['part_id', 'part_value', 'gear_id'], orient='row').explode('gear_id')"
   ]
  },
  {
   "cell_type": "code",
   "execution_count": null,
   "metadata": {},
   "outputs": [],
   "source": [
    "(\n",
    "    gear_df\n",
    "    .group_by('gear_id')\n",
    "    .agg(\n",
    "        pl.col('part_id').n_unique(),\n",
    "        pl.col('part_value').product()\n",
    "    )\n",
    "    .filter(\n",
    "        pl.col('part_id') == 2\n",
    "    )\n",
    "    .select(\n",
    "        pl.col('part_value')\n",
    "    ).sum()\n",
    ")"
   ]
  },
  {
   "cell_type": "markdown",
   "metadata": {},
   "source": [
    "## Day 04: Scratchcards "
   ]
  },
  {
   "cell_type": "code",
   "execution_count": null,
   "metadata": {},
   "outputs": [],
   "source": [
    "day = 4\n",
    "day4 = dynamic_load(day)\n",
    "input_path = get_input_path(day=day, test=None)"
   ]
  },
  {
   "cell_type": "markdown",
   "metadata": {},
   "source": [
    "### part 1"
   ]
  },
  {
   "cell_type": "code",
   "execution_count": null,
   "metadata": {},
   "outputs": [],
   "source": [
    "df = day4.parse_input(input_path)"
   ]
  },
  {
   "cell_type": "code",
   "execution_count": null,
   "metadata": {},
   "outputs": [],
   "source": [
    "(\n",
    "    df\n",
    "    .with_columns(\n",
    "        pl.col('winning').list.set_intersection(pl.col('ours')).list.len().alias('n_winning')\n",
    "    )\n",
    "    .select(\n",
    "        pl.when(pl.col('n_winning') > 0)\n",
    "        .then(2 ** (pl.col('n_winning') - 1))\n",
    "        .otherwise(pl.lit(0))\n",
    "        .cast(pl.Int64)\n",
    "        .sum()\n",
    "    )\n",
    ")"
   ]
  },
  {
   "cell_type": "markdown",
   "metadata": {},
   "source": [
    "### part 2"
   ]
  },
  {
   "cell_type": "code",
   "execution_count": null,
   "metadata": {},
   "outputs": [],
   "source": [
    "df = (\n",
    "    df\n",
    "    .with_columns(\n",
    "        pl.col('winning').list.set_intersection(pl.col('ours')).list.len().alias('n_winning')\n",
    "    )\n",
    ")"
   ]
  },
  {
   "cell_type": "code",
   "execution_count": null,
   "metadata": {},
   "outputs": [],
   "source": [
    "card_new_cards = {x['card']: list(np.arange(x['n_winning']) + x['card'] + 1) for x in df.iter_rows(named=True)}"
   ]
  },
  {
   "cell_type": "code",
   "execution_count": null,
   "metadata": {},
   "outputs": [],
   "source": [
    "card_copies = {x: 1 for x in card_new_cards.keys()}\n",
    "for card in card_new_cards.keys():\n",
    "    n_copies = card_copies.get(card, 0)\n",
    "    new_cards = card_new_cards.get(card) * n_copies\n",
    "    for new_card in new_cards:\n",
    "        card_copies[new_card] = card_copies.get(new_card, 0) + 1"
   ]
  },
  {
   "cell_type": "code",
   "execution_count": null,
   "metadata": {},
   "outputs": [],
   "source": [
    "sum(card_copies.values())"
   ]
  },
  {
   "cell_type": "markdown",
   "metadata": {},
   "source": [
    "## Day 05: If You Give A Seed A Fertilizer"
   ]
  },
  {
   "cell_type": "code",
   "execution_count": null,
   "metadata": {},
   "outputs": [],
   "source": [
    "day = 5\n",
    "day5 = dynamic_load(day)\n",
    "input_path = get_input_path(day=day, test=None)"
   ]
  },
  {
   "cell_type": "markdown",
   "metadata": {},
   "source": [
    "### part 1"
   ]
  },
  {
   "cell_type": "code",
   "execution_count": null,
   "metadata": {},
   "outputs": [],
   "source": [
    "seeds, mapping = day5.parse_input(input_path)"
   ]
  },
  {
   "cell_type": "code",
   "execution_count": null,
   "metadata": {},
   "outputs": [],
   "source": [
    "mapping_graph = day5.MappingGraph(mapping, logger=logger)"
   ]
  },
  {
   "cell_type": "code",
   "execution_count": null,
   "metadata": {},
   "outputs": [],
   "source": [
    "locations = mapping_graph.do_mapping('seed', seeds)\n",
    "min(locations)"
   ]
  },
  {
   "cell_type": "markdown",
   "metadata": {},
   "source": [
    "### part 2\n",
    "need some time to ponder upon this one..."
   ]
  },
  {
   "cell_type": "code",
   "execution_count": null,
   "metadata": {},
   "outputs": [],
   "source": [
    "seed_ranges = [(seeds[i], seeds[i] + seeds[i + 1] - 1) for i in range(0, len(seeds), 2)]\n",
    "seed_ranges.sort(key=lambda x: x[0])\n",
    "location_ranges = mapping_graph.do_range_mapping('seed', seed_ranges)"
   ]
  },
  {
   "cell_type": "code",
   "execution_count": null,
   "metadata": {},
   "outputs": [],
   "source": [
    "min([min(x) for x in location_ranges])"
   ]
  },
  {
   "cell_type": "markdown",
   "metadata": {},
   "source": [
    "## Day 06: Wait For It"
   ]
  },
  {
   "cell_type": "code",
   "execution_count": null,
   "metadata": {},
   "outputs": [],
   "source": [
    "day = 6\n",
    "day6 = dynamic_load(day)\n",
    "input_path = get_input_path(day=day, test=None)"
   ]
  },
  {
   "cell_type": "markdown",
   "metadata": {},
   "source": [
    "### part 1"
   ]
  },
  {
   "cell_type": "code",
   "execution_count": null,
   "metadata": {},
   "outputs": [],
   "source": [
    "df = day6.parse_input(input_path)"
   ]
  },
  {
   "cell_type": "code",
   "execution_count": null,
   "metadata": {},
   "outputs": [],
   "source": [
    "(\n",
    "    df\n",
    "    .with_columns(\n",
    "        pl.arange(1, df.height + 1).alias('id'),\n",
    "        pl.int_ranges(0, 'max_time').alias('press_time')\n",
    "    )\n",
    "    .explode('press_time')\n",
    "    .with_columns(\n",
    "        (pl.col('press_time') * (pl.col('max_time') - pl.col('press_time'))).alias('distance')\n",
    "    )\n",
    "    .filter(pl.col('distance') > pl.col('distance_record'))\n",
    "    .group_by('id')\n",
    "    .count()\n",
    "    .select(\n",
    "        pl.col('count').product()\n",
    "    )\n",
    ")"
   ]
  },
  {
   "cell_type": "markdown",
   "metadata": {},
   "source": [
    "### part 2"
   ]
  },
  {
   "cell_type": "code",
   "execution_count": null,
   "metadata": {},
   "outputs": [],
   "source": [
    "time, distance = day6.parse_input2(input_path)"
   ]
  },
  {
   "cell_type": "markdown",
   "metadata": {},
   "source": [
    "d = t x (m - t)  \n",
    "-t^2 + mt = d  \n",
    "t^2 -mt + d = 0  \n",
    "\n",
    "ax^2 + bx + c = 0  \n",
    "D = b^2 - 4a  \n",
    "(-b +- sqrt(D)) / 2a  "
   ]
  },
  {
   "cell_type": "code",
   "execution_count": null,
   "metadata": {},
   "outputs": [],
   "source": [
    "D = time ** 2 - 4 * distance\n",
    "D"
   ]
  },
  {
   "cell_type": "code",
   "execution_count": null,
   "metadata": {},
   "outputs": [],
   "source": [
    "import math\n",
    "\n",
    "t1 = math.ceil((time - math.sqrt(D)) / 2)\n",
    "t2 = math.floor((time + math.sqrt(D)) / 2)\n",
    "print(t1, t2)\n",
    "print(t2 - t1 + 1)"
   ]
  },
  {
   "cell_type": "markdown",
   "metadata": {},
   "source": [
    "## Day 07: Camel Cards"
   ]
  },
  {
   "cell_type": "code",
   "execution_count": null,
   "metadata": {},
   "outputs": [],
   "source": [
    "day = 7\n",
    "day7 = dynamic_load(day)\n",
    "input_path = get_input_path(day=day, test=None)"
   ]
  },
  {
   "cell_type": "markdown",
   "metadata": {},
   "source": [
    "### part 1"
   ]
  },
  {
   "cell_type": "code",
   "execution_count": null,
   "metadata": {},
   "outputs": [],
   "source": [
    "df = day7.parse_input(input_path)"
   ]
  },
  {
   "cell_type": "code",
   "execution_count": null,
   "metadata": {},
   "outputs": [],
   "source": [
    "rank_df = day7.add_rank(df)\n",
    "rank_df"
   ]
  },
  {
   "cell_type": "code",
   "execution_count": null,
   "metadata": {},
   "outputs": [],
   "source": [
    "(\n",
    "    rank_df\n",
    "    .select(\n",
    "        (pl.col('rank') * pl.col('bid'))\n",
    "    ).sum()\n",
    ")"
   ]
  },
  {
   "cell_type": "markdown",
   "metadata": {},
   "source": [
    "### part 2"
   ]
  },
  {
   "cell_type": "code",
   "execution_count": null,
   "metadata": {},
   "outputs": [],
   "source": [
    "joker_rank_df = day7.add_joker_rank(df)\n",
    "joker_rank_df"
   ]
  },
  {
   "cell_type": "code",
   "execution_count": null,
   "metadata": {},
   "outputs": [],
   "source": [
    "(\n",
    "    joker_rank_df\n",
    "    .select(\n",
    "        (pl.col('rank') * pl.col('bid'))\n",
    "    ).sum()\n",
    ")"
   ]
  },
  {
   "cell_type": "markdown",
   "metadata": {},
   "source": [
    "## Day 08: Haunted Wasteland"
   ]
  },
  {
   "cell_type": "code",
   "execution_count": null,
   "metadata": {},
   "outputs": [],
   "source": [
    "day = 8\n",
    "day8 = dynamic_load(day)\n",
    "input_path = get_input_path(day=day, test=None)"
   ]
  },
  {
   "cell_type": "markdown",
   "metadata": {},
   "source": [
    "### part 1"
   ]
  },
  {
   "cell_type": "code",
   "execution_count": null,
   "metadata": {},
   "outputs": [],
   "source": [
    "instructions, directions = day8.parse_input(input_path)"
   ]
  },
  {
   "cell_type": "code",
   "execution_count": null,
   "metadata": {},
   "outputs": [],
   "source": [
    "def get_instructions_iter(instructions):\n",
    "    i = -1\n",
    "    while True:\n",
    "        i += 1\n",
    "        if i >= len(instructions):\n",
    "            i = 0\n",
    "        yield instructions[i]"
   ]
  },
  {
   "cell_type": "code",
   "execution_count": null,
   "metadata": {},
   "outputs": [],
   "source": [
    "steps = 0\n",
    "destination = 'AAA'\n",
    "instructons_iter = get_instructions_iter(instructions)\n",
    "\n",
    "while destination != 'ZZZ':\n",
    "    steps += 1\n",
    "    instruction = next(instructons_iter)\n",
    "    destination = directions.get(destination)[instruction]\n",
    "print(steps)\n",
    "    \n"
   ]
  },
  {
   "cell_type": "markdown",
   "metadata": {},
   "source": [
    "### part 2"
   ]
  },
  {
   "cell_type": "code",
   "execution_count": null,
   "metadata": {},
   "outputs": [],
   "source": [
    "steps = 0\n",
    "destinations = [x for x in directions.keys() if x.endswith('A')]\n",
    "instructons_iter = get_instructions_iter(instructions)\n",
    "\n",
    "while not all([x.endswith('Z') for x in destinations]):\n",
    "    steps += 1\n",
    "    instruction = next(instructons_iter)\n",
    "    source_destinations = destinations\n",
    "    destinations = [directions.get(x)[instruction] for x in destinations]\n",
    "    if any([x.endswith('Z') for x in destinations]):\n",
    "        logger.info(f\"Step {steps}\")\n",
    "        for d in zip(source_destinations, destinations):\n",
    "            logger.info(f\"  {d}\")\n",
    "    if steps > 1000000:\n",
    "        break\n",
    "print(steps)\n",
    "    "
   ]
  },
  {
   "cell_type": "code",
   "execution_count": null,
   "metadata": {},
   "outputs": [],
   "source": [
    "steps = 0\n",
    "destinations = [x for x in directions.keys() if x.endswith('A')]\n",
    "final_destinations = list(set([x[0] for x in directions.values() if x[0].endswith('Z')] + [x[1] for x in directions.values() if x[1].endswith('Z')]))\n",
    "instructons_iter = get_instructions_iter(instructions)\n",
    "\n",
    "first_hit = {}\n",
    "while not all([x in first_hit.keys() for x in final_destinations]):\n",
    "    steps += 1\n",
    "    instruction = next(instructons_iter)\n",
    "    source_destinations = destinations\n",
    "    destinations = [directions.get(x)[instruction] for x in destinations]\n",
    "    if any([x.endswith('Z') for x in destinations]):\n",
    "        for destination in destinations:\n",
    "            if destination.endswith('Z') and destination not in first_hit.keys():\n",
    "                first_hit[destination] = steps\n",
    "    if steps > 100000000:\n",
    "        break\n",
    "print(first_hit)\n",
    "    "
   ]
  },
  {
   "cell_type": "code",
   "execution_count": null,
   "metadata": {},
   "outputs": [],
   "source": [
    "def calculate_prime_factors(N):\n",
    "    prime_factors = set()\n",
    "    if N % 2 == 0:\n",
    "        prime_factors.add(2)\n",
    "    while N % 2 == 0:\n",
    "        N = N // 2\n",
    "        if N == 1:\n",
    "            return prime_factors\n",
    "    for factor in range(3, N + 1, 2):\n",
    "        if N % factor == 0:\n",
    "            prime_factors.add(factor)\n",
    "            while N % factor == 0:\n",
    "                N = N // factor\n",
    "                if N == 1:\n",
    "                    return prime_factors\n",
    "\n"
   ]
  },
  {
   "cell_type": "code",
   "execution_count": null,
   "metadata": {},
   "outputs": [],
   "source": [
    "all_primes = []\n",
    "for hit in first_hit.values():\n",
    "    print(hit)\n",
    "    for value in calculate_prime_factors(hit):\n",
    "        print(f\"  {value}\")\n",
    "        if value not in all_primes:\n",
    "            all_primes.append(value)\n",
    "print(all_primes)"
   ]
  },
  {
   "cell_type": "code",
   "execution_count": null,
   "metadata": {},
   "outputs": [],
   "source": [
    "def multiply_list(myList):\n",
    "    # Multiply elements one by one\n",
    "    result = 1\n",
    "    for x in myList:\n",
    "        result *= x\n",
    "    return result"
   ]
  },
  {
   "cell_type": "code",
   "execution_count": null,
   "metadata": {},
   "outputs": [],
   "source": [
    "multiply_list(all_primes)"
   ]
  },
  {
   "cell_type": "markdown",
   "metadata": {},
   "source": [
    "## Day 09: Mirage Maintenance"
   ]
  },
  {
   "cell_type": "code",
   "execution_count": null,
   "metadata": {},
   "outputs": [],
   "source": [
    "day = 9\n",
    "day9 = dynamic_load(day)\n",
    "input_path = get_input_path(day=day, test=None)"
   ]
  },
  {
   "cell_type": "code",
   "execution_count": null,
   "metadata": {},
   "outputs": [],
   "source": [
    "value_history = list(day9.parse_input(input_path))"
   ]
  },
  {
   "cell_type": "markdown",
   "metadata": {},
   "source": [
    "## part 1"
   ]
  },
  {
   "cell_type": "code",
   "execution_count": null,
   "metadata": {},
   "outputs": [],
   "source": [
    "sum([day9.extrapolate(x, logger) for x in value_history])"
   ]
  },
  {
   "cell_type": "markdown",
   "metadata": {},
   "source": [
    "## part 2"
   ]
  },
  {
   "cell_type": "code",
   "execution_count": null,
   "metadata": {},
   "outputs": [],
   "source": [
    "sum([day9.extrapolate(x, logger, True) for x in value_history])"
   ]
  },
  {
   "cell_type": "markdown",
   "metadata": {},
   "source": [
    "## Day 10: Pipe Maze"
   ]
  },
  {
   "cell_type": "code",
   "execution_count": null,
   "metadata": {},
   "outputs": [],
   "source": [
    "day = 10\n",
    "day10 = dynamic_load(day)\n",
    "test = None\n",
    "input_path = get_input_path(day=day, test=test)"
   ]
  },
  {
   "cell_type": "code",
   "execution_count": null,
   "metadata": {},
   "outputs": [],
   "source": [
    "start, connections = day10.parse_input(input_path, test=test)"
   ]
  },
  {
   "cell_type": "markdown",
   "metadata": {},
   "source": [
    "## part 1"
   ]
  },
  {
   "cell_type": "code",
   "execution_count": null,
   "metadata": {},
   "outputs": [],
   "source": [
    "maze_runner = day10.MazeRunner(start, connections)"
   ]
  },
  {
   "cell_type": "code",
   "execution_count": null,
   "metadata": {},
   "outputs": [],
   "source": [
    "maze_runner.get_main_loop()"
   ]
  },
  {
   "cell_type": "code",
   "execution_count": null,
   "metadata": {},
   "outputs": [],
   "source": [
    "int(len(maze_runner.loop) / 2)"
   ]
  },
  {
   "cell_type": "markdown",
   "metadata": {},
   "source": [
    "### part 2"
   ]
  },
  {
   "cell_type": "code",
   "execution_count": null,
   "metadata": {},
   "outputs": [],
   "source": [
    "import shapely\n",
    "\n",
    "loop_polygon = shapely.Polygon(maze_runner.loop)"
   ]
  },
  {
   "cell_type": "code",
   "execution_count": null,
   "metadata": {},
   "outputs": [],
   "source": [
    "bounds = loop_polygon.bounds\n",
    "points = []\n",
    "for x in np.arange(bounds[0], bounds[2] + 1):\n",
    "    for y in np.arange(bounds[1], bounds[3] + 1):\n",
    "        point = shapely.Point(x, y)\n",
    "        if loop_polygon.contains(point):\n",
    "            points.append(point)"
   ]
  },
  {
   "cell_type": "code",
   "execution_count": null,
   "metadata": {},
   "outputs": [],
   "source": [
    "len(points )"
   ]
  }
 ],
 "metadata": {
  "kernelspec": {
   "display_name": "geo",
   "language": "python",
   "name": "python3"
  },
  "language_info": {
   "codemirror_mode": {
    "name": "ipython",
    "version": 3
   },
   "file_extension": ".py",
   "mimetype": "text/x-python",
   "name": "python",
   "nbconvert_exporter": "python",
   "pygments_lexer": "ipython3",
   "version": "3.10.9"
  },
  "orig_nbformat": 4
 },
 "nbformat": 4,
 "nbformat_minor": 2
}
